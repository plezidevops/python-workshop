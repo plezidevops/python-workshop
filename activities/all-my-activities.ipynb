{
 "cells": [
  {
   "cell_type": "markdown",
   "id": "42d693a6",
   "metadata": {},
   "source": [
    "### Activity 3 – using the input() function to rate your day"
   ]
  },
  {
   "cell_type": "code",
   "execution_count": 1,
   "id": "d33225a7",
   "metadata": {},
   "outputs": [
    {
     "name": "stdout",
     "output_type": "stream",
     "text": [
      "Rate your day on a scale of 1-10: 5\n",
      "Your rate number is 5\n"
     ]
    }
   ],
   "source": [
    "number = int(input('Rate your day on a scale of 1-10: '))\n",
    "print(f'Your rate number is {number}')"
   ]
  },
  {
   "cell_type": "markdown",
   "id": "9cd7490a",
   "metadata": {},
   "source": [
    "### Activity 4 – finding the least common multiple (LCM)"
   ]
  },
  {
   "cell_type": "code",
   "execution_count": 4,
   "id": "536a80e7",
   "metadata": {},
   "outputs": [
    {
     "name": "stdout",
     "output_type": "stream",
     "text": [
      "The Least Common Multiple of 24 and 36 is 72.\n"
     ]
    }
   ],
   "source": [
    "x, y = 24, 36\n",
    "i = 1\n",
    "\n",
    "while True:\n",
    "    if i%x == 0 and i%y == 0:\n",
    "        print(f'The Least Common Multiple of {x} and {y} is {i}.')\n",
    "        break\n",
    "    i += 1"
   ]
  },
  {
   "cell_type": "code",
   "execution_count": null,
   "id": "ba9932c3",
   "metadata": {},
   "outputs": [],
   "source": []
  }
 ],
 "metadata": {
  "kernelspec": {
   "display_name": "Python 3 (ipykernel)",
   "language": "python",
   "name": "python3"
  },
  "language_info": {
   "codemirror_mode": {
    "name": "ipython",
    "version": 3
   },
   "file_extension": ".py",
   "mimetype": "text/x-python",
   "name": "python",
   "nbconvert_exporter": "python",
   "pygments_lexer": "ipython3",
   "version": "3.11.4"
  }
 },
 "nbformat": 4,
 "nbformat_minor": 5
}
