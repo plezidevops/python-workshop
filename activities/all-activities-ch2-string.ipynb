{
 "cells": [
  {
   "cell_type": "markdown",
   "id": "c304bf46",
   "metadata": {},
   "source": [
    "### Activity 6 – using a nested list to store employee data"
   ]
  },
  {
   "cell_type": "code",
   "execution_count": 71,
   "id": "35b9763e",
   "metadata": {},
   "outputs": [],
   "source": [
    "employees = [\n",
    "    ['John Mckee', 'Lisa Crawford', 'Sujan Patel'],\n",
    "     [38, 29, 33],\n",
    "    ['Sales', 'Marketing', 'HR']\n",
    "]\n",
    "\n",
    "temp_list = []\n",
    "employee_new_list = []"
   ]
  },
  {
   "cell_type": "code",
   "execution_count": 80,
   "id": "a4dfb22a",
   "metadata": {},
   "outputs": [
    {
     "name": "stdout",
     "output_type": "stream",
     "text": [
      "['John Mckee', 38, 'Sales']\n",
      "Name: John Mckee\n",
      "Age: 38\n",
      "Department: Sales\n",
      "\n",
      "\n",
      "['Lisa Crawford', 29, 'Marketing']\n",
      "Name: Lisa Crawford\n",
      "Age: 29\n",
      "Department: Marketing\n",
      "\n",
      "\n",
      "['Sujan Patel', 33, 'HR']\n",
      "Name: Sujan Patel\n",
      "Age: 33\n",
      "Department: HR\n",
      "\n",
      "\n"
     ]
    }
   ],
   "source": [
    "for a in range(len(employees)):\n",
    "    for b in range(len(employees[a])):\n",
    "        temp_list.append(employees[b][a])\n",
    "    print(temp_list)\n",
    "    print(f'Name: {temp_list[0]}')\n",
    "    print(f'Age: {temp_list[1]}')\n",
    "    print(f'Department: {temp_list[2]}')\n",
    "    print('\\n')\n",
    "    temp_list = []\n"
   ]
  },
  {
   "cell_type": "code",
   "execution_count": null,
   "id": "e00e191c",
   "metadata": {},
   "outputs": [],
   "source": []
  }
 ],
 "metadata": {
  "kernelspec": {
   "display_name": "venv",
   "language": "python",
   "name": "venv"
  },
  "language_info": {
   "codemirror_mode": {
    "name": "ipython",
    "version": 3
   },
   "file_extension": ".py",
   "mimetype": "text/x-python",
   "name": "python",
   "nbconvert_exporter": "python",
   "pygments_lexer": "ipython3",
   "version": "3.11.4"
  }
 },
 "nbformat": 4,
 "nbformat_minor": 5
}
