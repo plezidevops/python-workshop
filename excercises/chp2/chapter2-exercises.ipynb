{
 "cells": [
  {
   "cell_type": "markdown",
   "id": "cb921f7f",
   "metadata": {},
   "source": [
    "### Exercise 21 – working with Python lists"
   ]
  },
  {
   "cell_type": "code",
   "execution_count": 1,
   "id": "8e77d64d",
   "metadata": {},
   "outputs": [
    {
     "name": "stdout",
     "output_type": "stream",
     "text": [
      "['bread', 'milk', 'eggs']\n"
     ]
    }
   ],
   "source": [
    "shopping = ['bread', 'milk', 'eggs']\n",
    "print(shopping)"
   ]
  },
  {
   "cell_type": "code",
   "execution_count": 2,
   "id": "377aa41d",
   "metadata": {},
   "outputs": [
    {
     "name": "stdout",
     "output_type": "stream",
     "text": [
      "bread\n",
      "milk\n",
      "eggs\n"
     ]
    }
   ],
   "source": [
    " for item in shopping:\n",
    "        print(item)"
   ]
  },
  {
   "cell_type": "markdown",
   "id": "0c038056",
   "metadata": {},
   "source": [
    "### Exercise 22 – basic list operations "
   ]
  },
  {
   "cell_type": "code",
   "execution_count": 4,
   "id": "b3bd4151",
   "metadata": {},
   "outputs": [
    {
     "name": "stdout",
     "output_type": "stream",
     "text": [
      "3\n"
     ]
    }
   ],
   "source": [
    "print(len(shopping))"
   ]
  },
  {
   "cell_type": "code",
   "execution_count": 5,
   "id": "27aa4eda",
   "metadata": {},
   "outputs": [],
   "source": [
    "list1 = [1,2,3]\n",
    "list2 = [4,5,6]\n",
    "final_list = list1 + list2"
   ]
  },
  {
   "cell_type": "code",
   "execution_count": 6,
   "id": "47c23ffd",
   "metadata": {},
   "outputs": [
    {
     "data": {
      "text/plain": [
       "[1, 2, 3, 4, 5, 6]"
      ]
     },
     "execution_count": 6,
     "metadata": {},
     "output_type": "execute_result"
    }
   ],
   "source": [
    "final_list"
   ]
  },
  {
   "cell_type": "code",
   "execution_count": 7,
   "id": "76765b8d",
   "metadata": {},
   "outputs": [
    {
     "name": "stdout",
     "output_type": "stream",
     "text": [
      "[1, 2, 1, 2, 1, 2]\n"
     ]
    }
   ],
   "source": [
    "list1 = [1,2]\n",
    "print(list1*3)"
   ]
  },
  {
   "cell_type": "markdown",
   "id": "9f4cf148",
   "metadata": {},
   "source": [
    "### Exercise 23 – accessing an item from shopping list data\n"
   ]
  },
  {
   "cell_type": "code",
   "execution_count": 8,
   "id": "47e2326b",
   "metadata": {},
   "outputs": [],
   "source": [
    "shopping[1] = 'banana'"
   ]
  },
  {
   "cell_type": "code",
   "execution_count": 9,
   "id": "e216813a",
   "metadata": {},
   "outputs": [
    {
     "data": {
      "text/plain": [
       "['bread', 'banana', 'eggs']"
      ]
     },
     "execution_count": 9,
     "metadata": {},
     "output_type": "execute_result"
    }
   ],
   "source": [
    "shopping"
   ]
  },
  {
   "cell_type": "code",
   "execution_count": 10,
   "id": "62e30e15",
   "metadata": {},
   "outputs": [
    {
     "data": {
      "text/plain": [
       "'eggs'"
      ]
     },
     "execution_count": 10,
     "metadata": {},
     "output_type": "execute_result"
    }
   ],
   "source": [
    "shopping[-1]"
   ]
  },
  {
   "cell_type": "markdown",
   "id": "b7d17207",
   "metadata": {},
   "source": [
    "### Exercise 24 – adding items to our shopping list"
   ]
  },
  {
   "cell_type": "code",
   "execution_count": 11,
   "id": "6cdec0b6",
   "metadata": {},
   "outputs": [
    {
     "name": "stdout",
     "output_type": "stream",
     "text": [
      "['bread', 'banana', 'eggs', 'apple']\n"
     ]
    }
   ],
   "source": [
    "shopping.append('apple')\n",
    "print(shopping)"
   ]
  },
  {
   "cell_type": "code",
   "execution_count": 28,
   "id": "7b0bf0f0",
   "metadata": {},
   "outputs": [],
   "source": [
    "shopping = []"
   ]
  },
  {
   "cell_type": "code",
   "execution_count": 29,
   "id": "39a44fb1",
   "metadata": {},
   "outputs": [
    {
     "data": {
      "text/plain": [
       "[]"
      ]
     },
     "execution_count": 29,
     "metadata": {},
     "output_type": "execute_result"
    }
   ],
   "source": [
    "shopping"
   ]
  },
  {
   "cell_type": "code",
   "execution_count": 30,
   "id": "5cc53086",
   "metadata": {},
   "outputs": [],
   "source": [
    "shopping.append('bread')"
   ]
  },
  {
   "cell_type": "code",
   "execution_count": 31,
   "id": "663eda01",
   "metadata": {},
   "outputs": [],
   "source": [
    "shopping.append('eggs')\n",
    "shopping.append('apple')\n",
    "shopping.append('milk')"
   ]
  },
  {
   "cell_type": "code",
   "execution_count": 32,
   "id": "471e3db1",
   "metadata": {},
   "outputs": [
    {
     "data": {
      "text/plain": [
       "['bread', 'eggs', 'apple', 'milk']"
      ]
     },
     "execution_count": 32,
     "metadata": {},
     "output_type": "execute_result"
    }
   ],
   "source": [
    "shopping"
   ]
  },
  {
   "cell_type": "code",
   "execution_count": 33,
   "id": "a91f5987",
   "metadata": {},
   "outputs": [
    {
     "name": "stdout",
     "output_type": "stream",
     "text": [
      "['bread', 'eggs', 'ham', 'apple', 'milk']\n"
     ]
    }
   ],
   "source": [
    "shopping.insert(2, 'ham')\n",
    "print(shopping)"
   ]
  },
  {
   "cell_type": "markdown",
   "id": "4e793436",
   "metadata": {},
   "source": [
    "### Exercise 25 – looping through a list"
   ]
  },
  {
   "cell_type": "code",
   "execution_count": 37,
   "id": "79fed7ae",
   "metadata": {},
   "outputs": [],
   "source": [
    "primes = [2, 3, 5, 7, 11]"
   ]
  },
  {
   "cell_type": "code",
   "execution_count": 38,
   "id": "9d5777dd",
   "metadata": {},
   "outputs": [],
   "source": [
    "prime_square = []\n",
    "for i in primes:\n",
    "    prime_square.append(i**2)"
   ]
  },
  {
   "cell_type": "code",
   "execution_count": 39,
   "id": "4f652ca9",
   "metadata": {},
   "outputs": [
    {
     "data": {
      "text/plain": [
       "[4, 9, 25, 49, 121]"
      ]
     },
     "execution_count": 39,
     "metadata": {},
     "output_type": "execute_result"
    }
   ],
   "source": [
    "prime_square"
   ]
  },
  {
   "cell_type": "markdown",
   "id": "e16fca03",
   "metadata": {},
   "source": [
    "### Exercise 26 – using a nested list to store data from a matrix"
   ]
  },
  {
   "cell_type": "code",
   "execution_count": 40,
   "id": "18a22cbb",
   "metadata": {},
   "outputs": [],
   "source": [
    "m = [[1, 2, 3], [4, 5, 6]]"
   ]
  },
  {
   "cell_type": "code",
   "execution_count": 41,
   "id": "bb13dc5f",
   "metadata": {},
   "outputs": [
    {
     "data": {
      "text/plain": [
       "5"
      ]
     },
     "execution_count": 41,
     "metadata": {},
     "output_type": "execute_result"
    }
   ],
   "source": [
    "m[1][1]"
   ]
  },
  {
   "cell_type": "code",
   "execution_count": 42,
   "id": "bff35060",
   "metadata": {},
   "outputs": [
    {
     "name": "stdout",
     "output_type": "stream",
     "text": [
      "1\n",
      "2\n",
      "3\n",
      "4\n",
      "5\n",
      "6\n"
     ]
    }
   ],
   "source": [
    "for i in range(len(m)):\n",
    "    for j in range(len(m[i])):\n",
    "        print(m[i][j])"
   ]
  },
  {
   "cell_type": "code",
   "execution_count": 47,
   "id": "1b27c191",
   "metadata": {},
   "outputs": [
    {
     "name": "stdout",
     "output_type": "stream",
     "text": [
      "row => \n",
      "1\n",
      "2\n",
      "3\n",
      "row => \n",
      "4\n",
      "5\n",
      "6\n"
     ]
    }
   ],
   "source": [
    "for row in m:\n",
    "    print('row => ')\n",
    "    for col in row:\n",
    "        print(col)"
   ]
  },
  {
   "cell_type": "markdown",
   "id": "cb0fcd6c",
   "metadata": {},
   "source": [
    "### Exercise 27 – implementing matrix operations (addition and subtraction)"
   ]
  },
  {
   "cell_type": "code",
   "execution_count": 2,
   "id": "c180a744",
   "metadata": {},
   "outputs": [],
   "source": [
    "X = [[1,2,3], [4,5,6,],[7,8,9]]\n",
    "Y = [[10,11,12], [13,14,15], [16,17,18]]"
   ]
  },
  {
   "cell_type": "code",
   "execution_count": 7,
   "id": "c11b9ba9",
   "metadata": {},
   "outputs": [
    {
     "name": "stdout",
     "output_type": "stream",
     "text": [
      "[[11, 13, 15], [17, 19, 21], [23, 25, 27]]\n"
     ]
    }
   ],
   "source": [
    "# Initialize a result placeholder\n",
    "result = [\n",
    "    [0,0,0],\n",
    "    [0,0,0],\n",
    "    [0,0,0]\n",
    "]\n",
    "\n",
    "# iterate through rows\n",
    "for i in range(len(X)):\n",
    "    #iterare through columns\n",
    "    for j in range(len(X[0])):\n",
    "        result[i][j] =X[i][j] + Y[i][j]\n",
    "print(result)"
   ]
  },
  {
   "cell_type": "code",
   "execution_count": 9,
   "id": "e479a629",
   "metadata": {},
   "outputs": [
    {
     "name": "stdout",
     "output_type": "stream",
     "text": [
      "[[9, 9, 9], [9, 9, 9], [9, 9, 9]]\n"
     ]
    }
   ],
   "source": [
    "# Initialize a result placeholder\n",
    "result = [\n",
    "    [0,0,0],\n",
    "    [0,0,0],\n",
    "    [0,0,0]\n",
    "]\n",
    "\n",
    "# iterate through rows\n",
    "for i in range(len(X)):\n",
    "    #iterare through columns\n",
    "    for j in range(len(X[0])):\n",
    "        result[i][j] = Y[i][j] - X[i][j]\n",
    "print(result)"
   ]
  },
  {
   "cell_type": "markdown",
   "id": "476e9e6a",
   "metadata": {},
   "source": [
    "### Exercise 29 – using a dictionary to store a movie record"
   ]
  },
  {
   "cell_type": "code",
   "execution_count": 11,
   "id": "993ae78b",
   "metadata": {},
   "outputs": [
    {
     "name": "stdout",
     "output_type": "stream",
     "text": [
      "1972\n"
     ]
    }
   ],
   "source": [
    "movie = {\n",
    "    \"title\": \"The Godfather\",\n",
    "    \"director\": \"Francis Ford Coppola\",\n",
    "    \"year\": 1972,\n",
    "    \"rating\": 9.2\n",
    "}\n",
    "\n",
    "print(movie['year'])"
   ]
  },
  {
   "cell_type": "code",
   "execution_count": 12,
   "id": "d198ee08",
   "metadata": {},
   "outputs": [
    {
     "name": "stdout",
     "output_type": "stream",
     "text": [
      "9.25\n"
     ]
    }
   ],
   "source": [
    "movie['rating'] = (movie['rating'] + 9.3) / 2\n",
    "print(movie['rating'])"
   ]
  },
  {
   "cell_type": "code",
   "execution_count": 13,
   "id": "d497aa33",
   "metadata": {},
   "outputs": [],
   "source": [
    "# Construct a movie dictionary from scratch \n",
    "# extend it using key-value assignment\n",
    "movie = {}\n",
    "movie['title'] = \"The Godfather\"\n",
    "movie['director'] = \"Francis Ford Coppola\"\n",
    "movie['year'] = 1972\n",
    "movie['rating'] = 9.2"
   ]
  },
  {
   "cell_type": "code",
   "execution_count": 14,
   "id": "a3a1c7ff",
   "metadata": {},
   "outputs": [
    {
     "data": {
      "text/plain": [
       "{'title': 'The Godfather',\n",
       " 'director': 'Francis Ford Coppola',\n",
       " 'year': 1972,\n",
       " 'rating': 9.2}"
      ]
     },
     "execution_count": 14,
     "metadata": {},
     "output_type": "execute_result"
    }
   ],
   "source": [
    "movie"
   ]
  },
  {
   "cell_type": "code",
   "execution_count": 15,
   "id": "0dff2541",
   "metadata": {},
   "outputs": [],
   "source": [
    "movie['actors'] = [\n",
    "    'Marlone Brando',\n",
    "    'Al Pacino',\n",
    "    'James Caan']\n"
   ]
  },
  {
   "cell_type": "code",
   "execution_count": 16,
   "id": "680a8198",
   "metadata": {},
   "outputs": [],
   "source": [
    "movie['other_details'] = {\n",
    "    'runtime': 175,\n",
    "    'language': 'English'\n",
    "}"
   ]
  },
  {
   "cell_type": "code",
   "execution_count": 17,
   "id": "06c322df",
   "metadata": {},
   "outputs": [
    {
     "data": {
      "text/plain": [
       "{'title': 'The Godfather',\n",
       " 'director': 'Francis Ford Coppola',\n",
       " 'year': 1972,\n",
       " 'rating': 9.2,\n",
       " 'actors': ['Marlone Brando', 'Al Pacino', 'James Caan'],\n",
       " 'other_details': {'runtime': 175, 'language': 'English'}}"
      ]
     },
     "execution_count": 17,
     "metadata": {},
     "output_type": "execute_result"
    }
   ],
   "source": [
    "movie"
   ]
  },
  {
   "cell_type": "markdown",
   "id": "67574f72",
   "metadata": {},
   "source": [
    "### Exercise 30 – accessing a dictionary using dictionary methods"
   ]
  },
  {
   "cell_type": "code",
   "execution_count": 21,
   "id": "0fdd388f",
   "metadata": {},
   "outputs": [
    {
     "name": "stdout",
     "output_type": "stream",
     "text": [
      "dict_values([75, 300, 200])\n",
      "[75, 300, 200]\n"
     ]
    }
   ],
   "source": [
    "album_sales = {\n",
    "    'barbara': 75,\n",
    "    'madona':300,\n",
    "    'mariah':200\n",
    "}\n",
    "print(album_sales.values())\n",
    "print(list(album_sales.values()))"
   ]
  },
  {
   "cell_type": "code",
   "execution_count": 23,
   "id": "4ab64339",
   "metadata": {},
   "outputs": [
    {
     "name": "stdout",
     "output_type": "stream",
     "text": [
      "['barbara', 'madona', 'mariah']\n"
     ]
    }
   ],
   "source": [
    "print(list(album_sales.keys()))"
   ]
  },
  {
   "cell_type": "code",
   "execution_count": 28,
   "id": "d70de098",
   "metadata": {},
   "outputs": [
    {
     "name": "stdout",
     "output_type": "stream",
     "text": [
      "('barbara', 75)\n",
      "('madona', 300)\n",
      "('mariah', 200)\n"
     ]
    }
   ],
   "source": [
    "for item in album_sales.items():\n",
    "    print(item)"
   ]
  },
  {
   "cell_type": "markdown",
   "id": "ac5e2ceb",
   "metadata": {},
   "source": [
    "### Exercise 31 – exploring tuple properties in a dance genre list"
   ]
  },
  {
   "cell_type": "code",
   "execution_count": 29,
   "id": "827d1588",
   "metadata": {},
   "outputs": [
    {
     "name": "stdout",
     "output_type": "stream",
     "text": [
      "3\n"
     ]
    }
   ],
   "source": [
    "t = ('ballet', 'modern', 'hip-hop')\n",
    "print(len(t))"
   ]
  },
  {
   "cell_type": "code",
   "execution_count": 31,
   "id": "da46ee27",
   "metadata": {},
   "outputs": [
    {
     "name": "stdout",
     "output_type": "stream",
     "text": [
      "('ballet', 'modern', 'hip-hop', 'jazz')\n"
     ]
    }
   ],
   "source": [
    "print(t + ('jazz',))"
   ]
  },
  {
   "cell_type": "code",
   "execution_count": 32,
   "id": "45d47572",
   "metadata": {},
   "outputs": [
    {
     "name": "stdout",
     "output_type": "stream",
     "text": [
      "('jazz', True, 3)\n"
     ]
    }
   ],
   "source": [
    "t_mixed = 'jazz', True, 3\n",
    "print(t_mixed)"
   ]
  },
  {
   "cell_type": "code",
   "execution_count": 33,
   "id": "db8318d9",
   "metadata": {},
   "outputs": [
    {
     "name": "stdout",
     "output_type": "stream",
     "text": [
      "(('jazz', 3), ('ballroom', 2), ('contemporary', 5))\n"
     ]
    }
   ],
   "source": [
    "t_dance = ('jazz', 3), ('ballroom', 2), ('contemporary', 5)\n",
    "print(t_dance)"
   ]
  },
  {
   "cell_type": "markdown",
   "id": "db7fede2",
   "metadata": {},
   "source": [
    "### Exercise 32 – using the zip() method to manipulate dictionaries"
   ]
  },
  {
   "cell_type": "code",
   "execution_count": 34,
   "id": "59528fa1",
   "metadata": {},
   "outputs": [],
   "source": [
    "items = ['apple', 'orange', 'banana']\n",
    "quantity = [5, 3, 2]"
   ]
  },
  {
   "cell_type": "code",
   "execution_count": 42,
   "id": "ab0a08d1",
   "metadata": {},
   "outputs": [
    {
     "name": "stdout",
     "output_type": "stream",
     "text": [
      "<zip object at 0x7f92eb8ac0>\n"
     ]
    }
   ],
   "source": [
    "orders = zip(items,quantity)\n",
    "print(orders)"
   ]
  },
  {
   "cell_type": "code",
   "execution_count": 43,
   "id": "3bcc9437",
   "metadata": {},
   "outputs": [
    {
     "name": "stdout",
     "output_type": "stream",
     "text": [
      "[('apple', 5), ('orange', 3), ('banana', 2)]\n"
     ]
    }
   ],
   "source": [
    "# turning zip object into a list\n",
    "print(list(orders))"
   ]
  },
  {
   "cell_type": "code",
   "execution_count": 44,
   "id": "103ef06d",
   "metadata": {},
   "outputs": [
    {
     "name": "stdout",
     "output_type": "stream",
     "text": [
      "(('apple', 5), ('orange', 3), ('banana', 2))\n"
     ]
    }
   ],
   "source": [
    "# turning a zip object into a tuple\n",
    "orders = zip(items,quantity)\n",
    "print(tuple(orders))"
   ]
  },
  {
   "cell_type": "code",
   "execution_count": 46,
   "id": "52e2afec",
   "metadata": {},
   "outputs": [
    {
     "name": "stdout",
     "output_type": "stream",
     "text": [
      "{'apple': 5, 'orange': 3, 'banana': 2}\n"
     ]
    }
   ],
   "source": [
    "# turning a zip object into a dictionary\n",
    "orders = zip(items,quantity)\n",
    "print(dict(orders))"
   ]
  },
  {
   "cell_type": "code",
   "execution_count": null,
   "id": "a016a468",
   "metadata": {},
   "outputs": [],
   "source": []
  }
 ],
 "metadata": {
  "kernelspec": {
   "display_name": "Python 3 (ipykernel)",
   "language": "python",
   "name": "python3"
  },
  "language_info": {
   "codemirror_mode": {
    "name": "ipython",
    "version": 3
   },
   "file_extension": ".py",
   "mimetype": "text/x-python",
   "name": "python",
   "nbconvert_exporter": "python",
   "pygments_lexer": "ipython3",
   "version": "3.9.2"
  }
 },
 "nbformat": 4,
 "nbformat_minor": 5
}
