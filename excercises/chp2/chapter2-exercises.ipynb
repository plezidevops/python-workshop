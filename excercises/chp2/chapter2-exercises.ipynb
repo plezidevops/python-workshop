{
 "cells": [
  {
   "cell_type": "markdown",
   "id": "cb921f7f",
   "metadata": {},
   "source": [
    "### Exercise 21 – working with Python lists"
   ]
  },
  {
   "cell_type": "code",
   "execution_count": 1,
   "id": "8e77d64d",
   "metadata": {},
   "outputs": [
    {
     "name": "stdout",
     "output_type": "stream",
     "text": [
      "['bread', 'milk', 'eggs']\n"
     ]
    }
   ],
   "source": [
    "shopping = ['bread', 'milk', 'eggs']\n",
    "print(shopping)"
   ]
  },
  {
   "cell_type": "code",
   "execution_count": 2,
   "id": "377aa41d",
   "metadata": {},
   "outputs": [
    {
     "name": "stdout",
     "output_type": "stream",
     "text": [
      "bread\n",
      "milk\n",
      "eggs\n"
     ]
    }
   ],
   "source": [
    " for item in shopping:\n",
    "        print(item)"
   ]
  },
  {
   "cell_type": "markdown",
   "id": "0c038056",
   "metadata": {},
   "source": [
    "### Exercise 22 – basic list operations "
   ]
  },
  {
   "cell_type": "code",
   "execution_count": 4,
   "id": "b3bd4151",
   "metadata": {},
   "outputs": [
    {
     "name": "stdout",
     "output_type": "stream",
     "text": [
      "3\n"
     ]
    }
   ],
   "source": [
    "print(len(shopping))"
   ]
  },
  {
   "cell_type": "code",
   "execution_count": 5,
   "id": "27aa4eda",
   "metadata": {},
   "outputs": [],
   "source": [
    "list1 = [1,2,3]\n",
    "list2 = [4,5,6]\n",
    "final_list = list1 + list2"
   ]
  },
  {
   "cell_type": "code",
   "execution_count": 6,
   "id": "47c23ffd",
   "metadata": {},
   "outputs": [
    {
     "data": {
      "text/plain": [
       "[1, 2, 3, 4, 5, 6]"
      ]
     },
     "execution_count": 6,
     "metadata": {},
     "output_type": "execute_result"
    }
   ],
   "source": [
    "final_list"
   ]
  },
  {
   "cell_type": "code",
   "execution_count": 7,
   "id": "76765b8d",
   "metadata": {},
   "outputs": [
    {
     "name": "stdout",
     "output_type": "stream",
     "text": [
      "[1, 2, 1, 2, 1, 2]\n"
     ]
    }
   ],
   "source": [
    "list1 = [1,2]\n",
    "print(list1*3)"
   ]
  },
  {
   "cell_type": "markdown",
   "id": "9f4cf148",
   "metadata": {},
   "source": [
    "### Exercise 23 – accessing an item from shopping list data\n"
   ]
  },
  {
   "cell_type": "code",
   "execution_count": 8,
   "id": "47e2326b",
   "metadata": {},
   "outputs": [],
   "source": [
    "shopping[1] = 'banana'"
   ]
  },
  {
   "cell_type": "code",
   "execution_count": 9,
   "id": "e216813a",
   "metadata": {},
   "outputs": [
    {
     "data": {
      "text/plain": [
       "['bread', 'banana', 'eggs']"
      ]
     },
     "execution_count": 9,
     "metadata": {},
     "output_type": "execute_result"
    }
   ],
   "source": [
    "shopping"
   ]
  },
  {
   "cell_type": "code",
   "execution_count": 10,
   "id": "62e30e15",
   "metadata": {},
   "outputs": [
    {
     "data": {
      "text/plain": [
       "'eggs'"
      ]
     },
     "execution_count": 10,
     "metadata": {},
     "output_type": "execute_result"
    }
   ],
   "source": [
    "shopping[-1]"
   ]
  },
  {
   "cell_type": "markdown",
   "id": "b7d17207",
   "metadata": {},
   "source": [
    "### Exercise 24 – adding items to our shopping list"
   ]
  },
  {
   "cell_type": "code",
   "execution_count": 11,
   "id": "6cdec0b6",
   "metadata": {},
   "outputs": [
    {
     "name": "stdout",
     "output_type": "stream",
     "text": [
      "['bread', 'banana', 'eggs', 'apple']\n"
     ]
    }
   ],
   "source": [
    "shopping.append('apple')\n",
    "print(shopping)"
   ]
  },
  {
   "cell_type": "code",
   "execution_count": 28,
   "id": "7b0bf0f0",
   "metadata": {},
   "outputs": [],
   "source": [
    "shopping = []"
   ]
  },
  {
   "cell_type": "code",
   "execution_count": 29,
   "id": "39a44fb1",
   "metadata": {},
   "outputs": [
    {
     "data": {
      "text/plain": [
       "[]"
      ]
     },
     "execution_count": 29,
     "metadata": {},
     "output_type": "execute_result"
    }
   ],
   "source": [
    "shopping"
   ]
  },
  {
   "cell_type": "code",
   "execution_count": 30,
   "id": "5cc53086",
   "metadata": {},
   "outputs": [],
   "source": [
    "shopping.append('bread')"
   ]
  },
  {
   "cell_type": "code",
   "execution_count": 31,
   "id": "663eda01",
   "metadata": {},
   "outputs": [],
   "source": [
    "shopping.append('eggs')\n",
    "shopping.append('apple')\n",
    "shopping.append('milk')"
   ]
  },
  {
   "cell_type": "code",
   "execution_count": 32,
   "id": "471e3db1",
   "metadata": {},
   "outputs": [
    {
     "data": {
      "text/plain": [
       "['bread', 'eggs', 'apple', 'milk']"
      ]
     },
     "execution_count": 32,
     "metadata": {},
     "output_type": "execute_result"
    }
   ],
   "source": [
    "shopping"
   ]
  },
  {
   "cell_type": "code",
   "execution_count": 33,
   "id": "a91f5987",
   "metadata": {},
   "outputs": [
    {
     "name": "stdout",
     "output_type": "stream",
     "text": [
      "['bread', 'eggs', 'ham', 'apple', 'milk']\n"
     ]
    }
   ],
   "source": [
    "shopping.insert(2, 'ham')\n",
    "print(shopping)"
   ]
  },
  {
   "cell_type": "markdown",
   "id": "4e793436",
   "metadata": {},
   "source": [
    "### Exercise 25 – looping through a list"
   ]
  },
  {
   "cell_type": "code",
   "execution_count": 37,
   "id": "79fed7ae",
   "metadata": {},
   "outputs": [],
   "source": [
    "primes = [2, 3, 5, 7, 11]"
   ]
  },
  {
   "cell_type": "code",
   "execution_count": 38,
   "id": "9d5777dd",
   "metadata": {},
   "outputs": [],
   "source": [
    "prime_square = []\n",
    "for i in primes:\n",
    "    prime_square.append(i**2)"
   ]
  },
  {
   "cell_type": "code",
   "execution_count": 39,
   "id": "4f652ca9",
   "metadata": {},
   "outputs": [
    {
     "data": {
      "text/plain": [
       "[4, 9, 25, 49, 121]"
      ]
     },
     "execution_count": 39,
     "metadata": {},
     "output_type": "execute_result"
    }
   ],
   "source": [
    "prime_square"
   ]
  },
  {
   "cell_type": "markdown",
   "id": "e16fca03",
   "metadata": {},
   "source": [
    "### Exercise 26 – using a nested list to store data from a matrix"
   ]
  },
  {
   "cell_type": "code",
   "execution_count": 40,
   "id": "18a22cbb",
   "metadata": {},
   "outputs": [],
   "source": [
    "m = [[1, 2, 3], [4, 5, 6]]"
   ]
  },
  {
   "cell_type": "code",
   "execution_count": 41,
   "id": "bb13dc5f",
   "metadata": {},
   "outputs": [
    {
     "data": {
      "text/plain": [
       "5"
      ]
     },
     "execution_count": 41,
     "metadata": {},
     "output_type": "execute_result"
    }
   ],
   "source": [
    "m[1][1]"
   ]
  },
  {
   "cell_type": "code",
   "execution_count": 42,
   "id": "bff35060",
   "metadata": {},
   "outputs": [
    {
     "name": "stdout",
     "output_type": "stream",
     "text": [
      "1\n",
      "2\n",
      "3\n",
      "4\n",
      "5\n",
      "6\n"
     ]
    }
   ],
   "source": [
    "for i in range(len(m)):\n",
    "    for j in range(len(m[i])):\n",
    "        print(m[i][j])"
   ]
  },
  {
   "cell_type": "code",
   "execution_count": 47,
   "id": "1b27c191",
   "metadata": {},
   "outputs": [
    {
     "name": "stdout",
     "output_type": "stream",
     "text": [
      "row => \n",
      "1\n",
      "2\n",
      "3\n",
      "row => \n",
      "4\n",
      "5\n",
      "6\n"
     ]
    }
   ],
   "source": [
    "for row in m:\n",
    "    print('row => ')\n",
    "    for col in row:\n",
    "        print(col)"
   ]
  },
  {
   "cell_type": "code",
   "execution_count": null,
   "id": "f30f2f98",
   "metadata": {},
   "outputs": [],
   "source": []
  }
 ],
 "metadata": {
  "kernelspec": {
   "display_name": "venv",
   "language": "python",
   "name": "venv"
  },
  "language_info": {
   "codemirror_mode": {
    "name": "ipython",
    "version": 3
   },
   "file_extension": ".py",
   "mimetype": "text/x-python",
   "name": "python",
   "nbconvert_exporter": "python",
   "pygments_lexer": "ipython3",
   "version": "3.11.4"
  }
 },
 "nbformat": 4,
 "nbformat_minor": 5
}
