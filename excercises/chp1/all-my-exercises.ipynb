{
 "cells": [
  {
   "cell_type": "markdown",
   "id": "b1f00bcb",
   "metadata": {},
   "source": [
    "### Exercise 7 – string error syntax"
   ]
  },
  {
   "cell_type": "code",
   "execution_count": 1,
   "id": "7eed6aa6",
   "metadata": {},
   "outputs": [],
   "source": [
    "bookstore = 'City Lights'"
   ]
  },
  {
   "cell_type": "code",
   "execution_count": 3,
   "id": "c69ce872",
   "metadata": {},
   "outputs": [
    {
     "ename": "SyntaxError",
     "evalue": "unterminated string literal (detected at line 1) (2747506218.py, line 1)",
     "output_type": "error",
     "traceback": [
      "\u001b[0;36m  Cell \u001b[0;32mIn[3], line 1\u001b[0;36m\u001b[0m\n\u001b[0;31m    bookstore = 'City Lights\"\u001b[0m\n\u001b[0m                ^\u001b[0m\n\u001b[0;31mSyntaxError\u001b[0m\u001b[0;31m:\u001b[0m unterminated string literal (detected at line 1)\n"
     ]
    }
   ],
   "source": [
    "bookstore = 'City Lights\""
   ]
  },
  {
   "cell_type": "code",
   "execution_count": 4,
   "id": "70aeeb3b",
   "metadata": {},
   "outputs": [],
   "source": [
    "bookstore = \"Moe's\""
   ]
  },
  {
   "cell_type": "code",
   "execution_count": 5,
   "id": "c0240eb6",
   "metadata": {},
   "outputs": [
    {
     "ename": "SyntaxError",
     "evalue": "unterminated string literal (detected at line 1) (1993911050.py, line 1)",
     "output_type": "error",
     "traceback": [
      "\u001b[0;36m  Cell \u001b[0;32mIn[5], line 1\u001b[0;36m\u001b[0m\n\u001b[0;31m    bookstore = 'Moes's'\u001b[0m\n\u001b[0m                       ^\u001b[0m\n\u001b[0;31mSyntaxError\u001b[0m\u001b[0;31m:\u001b[0m unterminated string literal (detected at line 1)\n"
     ]
    }
   ],
   "source": [
    "bookstore = 'Moes's'"
   ]
  },
  {
   "cell_type": "code",
   "execution_count": 6,
   "id": "857a81c9",
   "metadata": {},
   "outputs": [],
   "source": [
    "bookstore = 'Moes\\'s'"
   ]
  },
  {
   "cell_type": "markdown",
   "id": "049e9ec8",
   "metadata": {},
   "source": [
    "### Exercise 8 – displaying strings"
   ]
  },
  {
   "cell_type": "code",
   "execution_count": 8,
   "id": "6d1a4af2",
   "metadata": {},
   "outputs": [
    {
     "name": "stdout",
     "output_type": "stream",
     "text": [
      "Hello\n"
     ]
    }
   ],
   "source": [
    "greeting = 'Hello'\n",
    "print(greeting)"
   ]
  },
  {
   "cell_type": "code",
   "execution_count": 9,
   "id": "0cde2709",
   "metadata": {},
   "outputs": [
    {
     "data": {
      "text/plain": [
       "'Hello'"
      ]
     },
     "execution_count": 9,
     "metadata": {},
     "output_type": "execute_result"
    }
   ],
   "source": [
    "greeting"
   ]
  },
  {
   "cell_type": "code",
   "execution_count": 11,
   "id": "eba481e3",
   "metadata": {},
   "outputs": [],
   "source": [
    "spanish_greeting = 'Hola'\n",
    "spanish_greeting\n",
    "arabic_greeting = 'Ahlan wa sahlan'"
   ]
  },
  {
   "cell_type": "markdown",
   "id": "1120714f",
   "metadata": {},
   "source": [
    "### Exercise 9 – string concatenation"
   ]
  },
  {
   "cell_type": "code",
   "execution_count": 13,
   "id": "11dbbdc9",
   "metadata": {},
   "outputs": [
    {
     "name": "stdout",
     "output_type": "stream",
     "text": [
      "Hola Senor\n"
     ]
    }
   ],
   "source": [
    "spanish_greeting = 'Hola'\n",
    "print(spanish_greeting + ' Senor')"
   ]
  },
  {
   "cell_type": "code",
   "execution_count": 14,
   "id": "7c80aa31",
   "metadata": {},
   "outputs": [
    {
     "name": "stdout",
     "output_type": "stream",
     "text": [
      "HolaHolaHolaHolaHola\n"
     ]
    }
   ],
   "source": [
    "print(spanish_greeting * 5)"
   ]
  },
  {
   "cell_type": "markdown",
   "id": "2b606e35",
   "metadata": {},
   "source": [
    "### Exercise 10 – implementing string methods"
   ]
  },
  {
   "cell_type": "code",
   "execution_count": 15,
   "id": "f648bf39",
   "metadata": {},
   "outputs": [],
   "source": [
    "name = 'Pascal'"
   ]
  },
  {
   "cell_type": "code",
   "execution_count": 16,
   "id": "f66feebb",
   "metadata": {},
   "outputs": [
    {
     "data": {
      "text/plain": [
       "'pascal'"
      ]
     },
     "execution_count": 16,
     "metadata": {},
     "output_type": "execute_result"
    }
   ],
   "source": [
    "name.lower()"
   ]
  },
  {
   "cell_type": "code",
   "execution_count": 17,
   "id": "ed8bbec7",
   "metadata": {},
   "outputs": [
    {
     "data": {
      "text/plain": [
       "'Pascal'"
      ]
     },
     "execution_count": 17,
     "metadata": {},
     "output_type": "execute_result"
    }
   ],
   "source": [
    "name.capitalize()"
   ]
  },
  {
   "cell_type": "code",
   "execution_count": 18,
   "id": "2aae511c",
   "metadata": {},
   "outputs": [
    {
     "data": {
      "text/plain": [
       "'PASCAL'"
      ]
     },
     "execution_count": 18,
     "metadata": {},
     "output_type": "execute_result"
    }
   ],
   "source": [
    "name.upper()"
   ]
  },
  {
   "cell_type": "code",
   "execution_count": 20,
   "id": "aec79528",
   "metadata": {},
   "outputs": [
    {
     "data": {
      "text/plain": [
       "2"
      ]
     },
     "execution_count": 20,
     "metadata": {},
     "output_type": "execute_result"
    }
   ],
   "source": [
    "name.count('a')"
   ]
  },
  {
   "cell_type": "markdown",
   "id": "78787378",
   "metadata": {},
   "source": [
    "### Exercise 11 – types and casting"
   ]
  },
  {
   "cell_type": "code",
   "execution_count": 22,
   "id": "c07ef829",
   "metadata": {},
   "outputs": [
    {
     "data": {
      "text/plain": [
       "str"
      ]
     },
     "execution_count": 22,
     "metadata": {},
     "output_type": "execute_result"
    }
   ],
   "source": [
    "type('5')"
   ]
  },
  {
   "cell_type": "code",
   "execution_count": 23,
   "id": "de5516c3",
   "metadata": {},
   "outputs": [
    {
     "data": {
      "text/plain": [
       "'57'"
      ]
     },
     "execution_count": 23,
     "metadata": {},
     "output_type": "execute_result"
    }
   ],
   "source": [
    "'5' + '7'"
   ]
  },
  {
   "cell_type": "code",
   "execution_count": 24,
   "id": "83449f52",
   "metadata": {},
   "outputs": [
    {
     "data": {
      "text/plain": [
       "12"
      ]
     },
     "execution_count": 24,
     "metadata": {},
     "output_type": "execute_result"
    }
   ],
   "source": [
    "int('5') + int('7')"
   ]
  },
  {
   "cell_type": "markdown",
   "id": "0dfcebb3",
   "metadata": {},
   "source": [
    "### Exercise 12 – using the input() function"
   ]
  },
  {
   "cell_type": "code",
   "execution_count": 25,
   "id": "81b828c6",
   "metadata": {},
   "outputs": [
    {
     "name": "stdout",
     "output_type": "stream",
     "text": [
      "What is your name: Pascal\n"
     ]
    }
   ],
   "source": [
    "name = input('What is your name: ')"
   ]
  },
  {
   "cell_type": "code",
   "execution_count": 27,
   "id": "d30a513d",
   "metadata": {},
   "outputs": [
    {
     "name": "stdout",
     "output_type": "stream",
     "text": [
      "Hello, Pascal\n"
     ]
    }
   ],
   "source": [
    "print(f'Hello, {name}')"
   ]
  },
  {
   "cell_type": "markdown",
   "id": "dcd5d881",
   "metadata": {},
   "source": [
    "### Exercise 13 – Boolean variables"
   ]
  },
  {
   "cell_type": "code",
   "execution_count": 29,
   "id": "27220b17",
   "metadata": {},
   "outputs": [
    {
     "data": {
      "text/plain": [
       "bool"
      ]
     },
     "execution_count": 29,
     "metadata": {},
     "output_type": "execute_result"
    }
   ],
   "source": [
    "over_18 = True\n",
    "type(over_18)"
   ]
  },
  {
   "cell_type": "code",
   "execution_count": 30,
   "id": "b19d4a98",
   "metadata": {},
   "outputs": [],
   "source": [
    "over_18, over_21 = True, False"
   ]
  },
  {
   "cell_type": "code",
   "execution_count": 31,
   "id": "2ce932cf",
   "metadata": {},
   "outputs": [
    {
     "data": {
      "text/plain": [
       "False"
      ]
     },
     "execution_count": 31,
     "metadata": {},
     "output_type": "execute_result"
    }
   ],
   "source": [
    "over_18 and over_21"
   ]
  },
  {
   "cell_type": "code",
   "execution_count": 34,
   "id": "567722e7",
   "metadata": {},
   "outputs": [
    {
     "data": {
      "text/plain": [
       "True"
      ]
     },
     "execution_count": 34,
     "metadata": {},
     "output_type": "execute_result"
    }
   ],
   "source": [
    "over_18 or over_21"
   ]
  },
  {
   "cell_type": "code",
   "execution_count": 35,
   "id": "5c56986f",
   "metadata": {},
   "outputs": [
    {
     "data": {
      "text/plain": [
       "True"
      ]
     },
     "execution_count": 35,
     "metadata": {},
     "output_type": "execute_result"
    }
   ],
   "source": [
    "over_21 or over_18"
   ]
  },
  {
   "cell_type": "code",
   "execution_count": 33,
   "id": "89764cac",
   "metadata": {},
   "outputs": [
    {
     "data": {
      "text/plain": [
       "False"
      ]
     },
     "execution_count": 33,
     "metadata": {},
     "output_type": "execute_result"
    }
   ],
   "source": [
    "not over_18"
   ]
  },
  {
   "cell_type": "markdown",
   "id": "102ade40",
   "metadata": {},
   "source": [
    "### Exercise 14 – comparison operators"
   ]
  },
  {
   "cell_type": "code",
   "execution_count": 36,
   "id": "e57beffe",
   "metadata": {},
   "outputs": [
    {
     "data": {
      "text/plain": [
       "False"
      ]
     },
     "execution_count": 36,
     "metadata": {},
     "output_type": "execute_result"
    }
   ],
   "source": [
    "income = 80000\n",
    "income < 75000"
   ]
  },
  {
   "cell_type": "code",
   "execution_count": 38,
   "id": "434aa2cd",
   "metadata": {},
   "outputs": [
    {
     "data": {
      "text/plain": [
       "True"
      ]
     },
     "execution_count": 38,
     "metadata": {},
     "output_type": "execute_result"
    }
   ],
   "source": [
    "income >= 80000 and income <= 100000"
   ]
  },
  {
   "cell_type": "code",
   "execution_count": 39,
   "id": "a99ed48f",
   "metadata": {},
   "outputs": [
    {
     "data": {
      "text/plain": [
       "True"
      ]
     },
     "execution_count": 39,
     "metadata": {},
     "output_type": "execute_result"
    }
   ],
   "source": [
    "income != 100000"
   ]
  },
  {
   "cell_type": "code",
   "execution_count": 40,
   "id": "a343ebec",
   "metadata": {},
   "outputs": [
    {
     "data": {
      "text/plain": [
       "False"
      ]
     },
     "execution_count": 40,
     "metadata": {},
     "output_type": "execute_result"
    }
   ],
   "source": [
    "income == 90000"
   ]
  },
  {
   "cell_type": "markdown",
   "id": "986c5b1e",
   "metadata": {},
   "source": [
    "### Exercise 15 – practicing comparing strings"
   ]
  },
  {
   "cell_type": "code",
   "execution_count": 41,
   "id": "cc7666c4",
   "metadata": {},
   "outputs": [
    {
     "data": {
      "text/plain": [
       "False"
      ]
     },
     "execution_count": 41,
     "metadata": {},
     "output_type": "execute_result"
    }
   ],
   "source": [
    "'a' > 'b'"
   ]
  },
  {
   "cell_type": "code",
   "execution_count": 42,
   "id": "b4d35d3a",
   "metadata": {},
   "outputs": [
    {
     "data": {
      "text/plain": [
       "False"
      ]
     },
     "execution_count": 42,
     "metadata": {},
     "output_type": "execute_result"
    }
   ],
   "source": [
    "'New York' > 'San Francisco'"
   ]
  },
  {
   "cell_type": "markdown",
   "id": "66b70861",
   "metadata": {},
   "source": [
    "### Exercise 16 – using the if syntax"
   ]
  },
  {
   "cell_type": "code",
   "execution_count": 45,
   "id": "186862f1",
   "metadata": {},
   "outputs": [
    {
     "name": "stdout",
     "output_type": "stream",
     "text": [
      "At least you can vote\n"
     ]
    }
   ],
   "source": [
    "age = 20\n",
    "if age >= 18 and age < 21:\n",
    "    print('At least you can vote')"
   ]
  },
  {
   "cell_type": "markdown",
   "id": "6e37495b",
   "metadata": {},
   "source": [
    "### Exercise 17 – using the if-else syntax"
   ]
  },
  {
   "cell_type": "code",
   "execution_count": 47,
   "id": "3aa0325d",
   "metadata": {},
   "outputs": [
    {
     "name": "stdout",
     "output_type": "stream",
     "text": [
      "You can vote\n"
     ]
    }
   ],
   "source": [
    "age = 20\n",
    "if age < 18:\n",
    "    print('You aren\\'t old enough to vode')\n",
    "else:\n",
    "    print('You can vote')"
   ]
  },
  {
   "cell_type": "markdown",
   "id": "eb3dcc0f",
   "metadata": {},
   "source": [
    "### Exercise 18 – calculating perfect squares"
   ]
  },
  {
   "cell_type": "code",
   "execution_count": 49,
   "id": "4822948e",
   "metadata": {},
   "outputs": [
    {
     "name": "stdout",
     "output_type": "stream",
     "text": [
      "Enter a number to see if it's a perferct square: \n",
      "64\n",
      "The square root of 64 is 8\n"
     ]
    }
   ],
   "source": [
    "print('Enter a number to see if it\\'s a perferct square: ')\n",
    "\n",
    "number = input()\n",
    "number = abs(int(number))\n",
    "i = -1\n",
    "square = False\n",
    "\n",
    "while i <= number:\n",
    "    i += 1\n",
    "    if i*i == number:\n",
    "        square = True\n",
    "        break\n",
    "    \n",
    "if square:\n",
    "    print(f'The square root of {number} is {i}')\n",
    "else:\n",
    "    print(f'{number} is not a perfect square.')\n",
    "        "
   ]
  },
  {
   "cell_type": "markdown",
   "id": "a11bf919",
   "metadata": {},
   "source": [
    "### Exercise 19 – real estate offer\n"
   ]
  },
  {
   "cell_type": "code",
   "execution_count": null,
   "id": "eb3edcb5",
   "metadata": {},
   "outputs": [],
   "source": [
    "print('A one bedroom in the Bay Area is listed at $599,000.')\n",
    "offer = int(input('Enter your first offer on the house.'))\n"
   ]
  }
 ],
 "metadata": {
  "kernelspec": {
   "display_name": "venv",
   "language": "python",
   "name": "venv"
  },
  "language_info": {
   "codemirror_mode": {
    "name": "ipython",
    "version": 3
   },
   "file_extension": ".py",
   "mimetype": "text/x-python",
   "name": "python",
   "nbconvert_exporter": "python",
   "pygments_lexer": "ipython3",
   "version": "3.11.4"
  }
 },
 "nbformat": 4,
 "nbformat_minor": 5
}
